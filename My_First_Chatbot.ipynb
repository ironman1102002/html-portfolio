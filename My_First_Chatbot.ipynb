{
  "nbformat": 4,
  "nbformat_minor": 0,
  "metadata": {
    "colab": {
      "provenance": [],
      "authorship_tag": "ABX9TyPg1mhKLYg2Hy8/5bPoDM+C",
      "include_colab_link": true
    },
    "kernelspec": {
      "name": "python3",
      "display_name": "Python 3"
    },
    "language_info": {
      "name": "python"
    }
  },
  "cells": [
    {
      "cell_type": "markdown",
      "metadata": {
        "id": "view-in-github",
        "colab_type": "text"
      },
      "source": [
        "<a href=\"https://colab.research.google.com/github/ironman1102002/html-portfolio/blob/main/My_First_Chatbot.ipynb\" target=\"_parent\"><img src=\"https://colab.research.google.com/assets/colab-badge.svg\" alt=\"Open In Colab\"/></a>"
      ]
    },
    {
      "cell_type": "code",
      "source": [
        "name =\"Tony\"\n",
        "age = 61\n",
        "\n",
        "print(name, age)\n",
        "\n",
        "print(\"Hello, my name is:\", name, age)"
      ],
      "metadata": {
        "colab": {
          "base_uri": "https://localhost:8080/"
        },
        "id": "FX9gbkUkh-lQ",
        "outputId": "2680f77b-e284-45c9-9081-89919272c30e"
      },
      "execution_count": null,
      "outputs": [
        {
          "output_type": "stream",
          "name": "stdout",
          "text": [
            "Tony 61\n",
            "Hello, my name is: Tony 61\n"
          ]
        }
      ]
    },
    {
      "cell_type": "code",
      "source": [
        "unit = input(\"Is temp in celsius or fahrenheit (C/F): \")\n",
        "temp = float(input(\"Enter temp:  \" ))\n",
        "\n",
        "if unit == \"C\":\n",
        "   temp = round((9 * temp) / 5 + 32, 2)\n",
        "   print(f\"The temp in Fahrenheit is: {temp} F\")\n",
        "elif unit == \"F\":\n",
        "   temp = round((temp - 32) *  5 / 9, 2)\n",
        "   print(f\"The temp in Celsius is: {temp} C\")\n",
        "else:\n",
        "   print (f\"{unit}) is an invalid unit of measure\")"
      ],
      "metadata": {
        "id": "6cIVhInTiNh5",
        "colab": {
          "base_uri": "https://localhost:8080/"
        },
        "outputId": "643e1891-aae0-4202-9855-d847cfff81d5"
      },
      "execution_count": null,
      "outputs": [
        {
          "output_type": "stream",
          "name": "stdout",
          "text": [
            "Is temp in celsius or fahrenheit (C/F): C\n",
            "Enter temp:  35\n",
            "The temp in Fahrenheit is: 95.0 F\n"
          ]
        }
      ]
    },
    {
      "cell_type": "code",
      "source": [
        "#input() = A function that prompts the user to enter data returns the entered data as a string\n",
        "\n",
        "\n",
        "name = input(\"What is your name?:\" )\n",
        "age = int(input(\"How old are you?:\"))\n",
        "#age =int(age)\n",
        "age = age + 1 #Type cast a string to an integer before you can add number and strings\n",
        "#age = int(input(\"How old are you\"))\n",
        "print(f\"Hello {name}\")\n",
        "print(\"Happy Birthday\")\n",
        "print(f\"You are {age} Years old\")\n"
      ],
      "metadata": {
        "colab": {
          "base_uri": "https://localhost:8080/"
        },
        "id": "NSYedNIHnK9s",
        "outputId": "f34ab15d-035e-4b76-e073-e31c1e555bd8"
      },
      "execution_count": null,
      "outputs": [
        {
          "output_type": "stream",
          "name": "stdout",
          "text": [
            "What is your name?:Tony\n",
            "How old are you?:61\n",
            "Hello Tony\n",
            "Happy Birthday\n",
            "You are 62 Years old\n"
          ]
        }
      ]
    },
    {
      "cell_type": "code",
      "source": [
        "#Exercise 1 Rectangle Area Calc\n",
        "length = float(input(\"Enter the length: \"))\n",
        "width = float(input(\"Enter the width: \"))\n",
        "area = length * width\n",
        "\n",
        "\n",
        "print(f\"area is: {area})cm\")\n",
        "\n",
        "\n"
      ],
      "metadata": {
        "colab": {
          "base_uri": "https://localhost:8080/"
        },
        "id": "134YZYfLnUc0",
        "outputId": "fa1f4532-e3e8-420e-c693-e56a9e380aed"
      },
      "execution_count": null,
      "outputs": [
        {
          "output_type": "stream",
          "name": "stdout",
          "text": [
            "Enter the length: 35\n",
            "Enter the width: 45\n",
            "area is: 1575.0)cm\n"
          ]
        }
      ]
    },
    {
      "cell_type": "code",
      "source": [
        "#Exercise 2 Shopping Cart Program\n",
        "item= input(\"What item are you buying: \")\n",
        "price = float(input(\"What is the price: \"))\n",
        "quantity = int(input(\"How many do you need: \"))\n",
        "total = price * quantity\n",
        "print(total)\n",
        "\n",
        "\n",
        "\n",
        "\n"
      ],
      "metadata": {
        "colab": {
          "base_uri": "https://localhost:8080/"
        },
        "id": "NeLAv8Xcnc8G",
        "outputId": "6014dd78-7614-4651-c438-d86241df99a0"
      },
      "execution_count": null,
      "outputs": [
        {
          "output_type": "stream",
          "name": "stdout",
          "text": [
            "What item are you buying: Computer\n",
            "What is the price: 200\n",
            "How many do you need: $3\n",
            "600.0\n"
          ]
        }
      ]
    },
    {
      "cell_type": "code",
      "source": [
        "friends = 10\n",
        "friends =+ 2\n",
        "friends = friends + 1\n",
        "friends = friends - 2\n",
        "friends = -+ friends\n",
        "friends = friends * 3\n",
        "friends *= 3\n",
        "friends = friends / 2\n",
        "friends /= 2\n",
        "friends = friends ** 2\n",
        "friends **= 2\n",
        "remainder = friends % 3\n",
        "\n",
        "print(friends)\n",
        "\n",
        "\n",
        "print(remainder)\n"
      ],
      "metadata": {
        "colab": {
          "base_uri": "https://localhost:8080/"
        },
        "id": "zkLWU9qhoDB_",
        "outputId": "7520e883-45ff-4120-d489-972f26f76ea2"
      },
      "execution_count": null,
      "outputs": [
        {
          "output_type": "stream",
          "name": "stdout",
          "text": [
            "25.62890625\n",
            "1.62890625\n"
          ]
        }
      ]
    },
    {
      "cell_type": "code",
      "source": [
        "x = 3.14\n",
        "y = 4\n",
        "z = 5\n",
        "\n",
        "result = round(x) #     Rounds number\n",
        "result = abs(y)   #     Absolute Value of variable\n",
        "result = pow(4, 3) #    Power of number\n",
        "result = max(x, y, z) # maximum variable\n",
        "result = min (x, y, z) # minimum variable\n",
        "\n",
        "\n",
        "\n",
        "print(result)\n"
      ],
      "metadata": {
        "colab": {
          "base_uri": "https://localhost:8080/"
        },
        "id": "_-HhjMic1Gx6",
        "outputId": "a73d5b17-7dd4-4dd8-f8be-0a85d3d6530f"
      },
      "execution_count": null,
      "outputs": [
        {
          "output_type": "stream",
          "name": "stdout",
          "text": [
            "3.14\n"
          ]
        }
      ]
    },
    {
      "cell_type": "code",
      "source": [
        "import math\n",
        "\n",
        "x = 9.9\n",
        "\n",
        "math.pi\n",
        "\n",
        "print(math.pi)\n",
        "print(math.e)\n",
        "\n",
        "result = math.sqrt(x) # give square root\n",
        "result = math.ceil(x) # rounds varabile up\n",
        "result = math.floor(x) #rounds variable down\n",
        "\n",
        "\n",
        "print(result)"
      ],
      "metadata": {
        "colab": {
          "base_uri": "https://localhost:8080/"
        },
        "id": "D384En-q3GG9",
        "outputId": "3c71460e-9ad7-434c-8740-ec327bff640d"
      },
      "execution_count": null,
      "outputs": [
        {
          "output_type": "stream",
          "name": "stdout",
          "text": [
            "3.141592653589793\n",
            "2.718281828459045\n",
            "9\n"
          ]
        }
      ]
    },
    {
      "cell_type": "code",
      "source": [
        "# Exercise One: Circumference of circle\n",
        "import math\n",
        "\n",
        "radius = float(input(\"Enter the radius of a circle: \"))\n",
        "\n",
        "circumference = 2 * math.pi * radius\n",
        "\n",
        "print(f\"The Circumference is: {circumference} \")\n",
        "print(f\"The Circumference is: {round(circumference, 2)}cm\")\n",
        "\n"
      ],
      "metadata": {
        "colab": {
          "base_uri": "https://localhost:8080/"
        },
        "id": "vzIYIKc98gvE",
        "outputId": "e8126913-1a23-4d69-8132-25e00d43a4bd"
      },
      "execution_count": null,
      "outputs": [
        {
          "output_type": "stream",
          "name": "stdout",
          "text": [
            "Enter the radius of a circle: 10.5\n",
            "The Circumference is: 65.97344572538566 \n",
            "The Circumference is: 65.97cm\n"
          ]
        }
      ]
    },
    {
      "cell_type": "code",
      "source": [],
      "metadata": {
        "id": "eH2Nqgk_AUX6"
      },
      "execution_count": null,
      "outputs": []
    },
    {
      "cell_type": "code",
      "source": [
        "import math\n",
        "# Area of a Circle\n",
        "radius = float(input(\"Enter the radius of a circle: \"))\n",
        "\n",
        "# Equation for Area is: pi * radius squared\n",
        "\n",
        "area = math.pi * pow(radius, 2)\n",
        "\n",
        "print (f\"The Area of the Circle is: {round(area, 2)}cm squared\")"
      ],
      "metadata": {
        "colab": {
          "base_uri": "https://localhost:8080/"
        },
        "id": "GWnDo860-yFl",
        "outputId": "152e363d-670f-4754-96d0-489aedf362c1"
      },
      "execution_count": null,
      "outputs": [
        {
          "output_type": "stream",
          "name": "stdout",
          "text": [
            "Enter the radius of a circle: 10.5\n",
            "The Area of the Circle is: 346.36cm squared\n"
          ]
        }
      ]
    },
    {
      "cell_type": "code",
      "source": [
        "# hypotenuse of triangle\n",
        "import math\n",
        "\n",
        "a = float(input(\"Enter Side A: \"))\n",
        "b = float(input(\"Enter Side B: \"))\n",
        "c = math.sqrt(pow(a, 2) + pow(b, 2))\n",
        "\n",
        "print (f\"Side C = {c}\")\n"
      ],
      "metadata": {
        "colab": {
          "base_uri": "https://localhost:8080/"
        },
        "id": "qPIzoZHDAWPt",
        "outputId": "7937f9a5-6506-448f-ca83-699d62e05989"
      },
      "execution_count": null,
      "outputs": [
        {
          "output_type": "stream",
          "name": "stdout",
          "text": [
            "Enter Side A: 5\n",
            "Enter Side B: 6\n",
            "Side C = 7.810249675906654\n"
          ]
        }
      ]
    },
    {
      "cell_type": "code",
      "source": [
        "# Python Calculator using if statements\n",
        "operator = input(\"Enter an operator (+ - * /: \")\n",
        "\n",
        "num1 = float(input(\"enter the 1st number: \"))\n",
        "num2 = float(input(\"Enter 2nd number: \"))\n",
        "\n",
        "# Statements depend on what operator that is picked. +, -, *, /\n",
        "\n",
        "if operator == \"+\":\n",
        "    result = num1 + num2\n",
        "    print(round(result,3))\n",
        "\n",
        "elif operator == \"-\":\n",
        "    result = num1 - num2\n",
        "    print(round(result,3))\n",
        "elif operator == \"*\":\n",
        "    result = num1 * num2\n",
        "    print(round(result,3))\n",
        "\n",
        "elif operator == \"/\":\n",
        "    result = num1 / num2\n",
        "    print(round(result, 3))\n",
        "\n",
        "else:\n",
        "    print(f\"{operator} is not valid operator\")\n",
        "\n"
      ],
      "metadata": {
        "colab": {
          "base_uri": "https://localhost:8080/"
        },
        "id": "iKhZ6k52S_gr",
        "outputId": "c3bd3d9c-2ffe-41fb-8f69-b6fa0a1c27eb"
      },
      "execution_count": null,
      "outputs": [
        {
          "output_type": "stream",
          "name": "stdout",
          "text": [
            "Enter an operator (+ - * /: +\n",
            "enter the 1st number: 3500\n",
            "Enter 2nd number: 3300\n",
            "6800.0\n"
          ]
        }
      ]
    },
    {
      "cell_type": "code",
      "source": [
        "# Python Weight Converter\n",
        "\n",
        "weight = float(input(\"Enter your weight: \"))\n",
        "\n",
        "unit = input(\"Kilograms or Pounds? (K or L): \")\n",
        "\n",
        "if unit == \"K\":\n",
        "    weight = weight * 2.205\n",
        "    unit = \"Lbs. \"\n",
        "    print(f\"Your weight is: {round(weight, 1)} {unit} \")\n",
        "\n",
        "elif unit == \"L\":\n",
        "    weight = weight / 2.205\n",
        "    unit = \"Kgs.\"\n",
        "    print(f\"Your weight is: {round(weight, 1)} {unit} \")\n",
        "\n",
        "else:\n",
        "    print(f\"{unit} was not valid\")\n",
        "\n"
      ],
      "metadata": {
        "colab": {
          "base_uri": "https://localhost:8080/"
        },
        "id": "fYKiPBEm2k0e",
        "outputId": "0eac72f7-e697-4c4b-953a-a0887144c5ab"
      },
      "execution_count": null,
      "outputs": [
        {
          "output_type": "stream",
          "name": "stdout",
          "text": [
            "Enter your weight: 67\n",
            "Kilograms or Pounds? (K or L): K\n",
            "Your weight is: 147.7 Lbs.  \n"
          ]
        }
      ]
    },
    {
      "cell_type": "code",
      "source": [
        "#Logical operators = evaluate multiple conditions (or, and, not )\n",
        "# At least one condition must be true\n",
        "# Both conditions must be true\n",
        "# inverts the condition (no false, not true)\n",
        "\n",
        "# Or operator\n",
        "temp = 36\n",
        "is_raining = True\n",
        "\n",
        "if temp > 35 or temp < 0 or is_raining:\n",
        "    print(\"The outdoor event is canclled\")\n",
        "else:\n",
        "    print(\"The outdoor event is still on\")\n",
        "\n",
        "# And operator\n",
        "temp = 40\n",
        "is_sunny = False\n",
        "\n",
        "if temp >= 28 and is_sunny:\n",
        "    print(\"It is hot outside\")\n",
        "    print(\"It is sunny\")\n",
        "\n",
        "elif temp <= -0 and is_sunny:\n",
        "    print(\"It is cold outside\")\n",
        "    print(\"It is sunny\")\n",
        "elif 28 > temp > 0 and not is_sunny:\n",
        "    print(\"It is warm outside\")\n",
        "    print(\"It is Sunny\")\n",
        "\n",
        "#Not, Not False or Not True\n",
        "\n",
        "elif 28 > temp > 0 and not  is_sunny:\n",
        "    print(\"It is warm outside\")\n",
        "    print(\"It is cloudy\")\n",
        "\n",
        "\n",
        "\n"
      ],
      "metadata": {
        "colab": {
          "base_uri": "https://localhost:8080/"
        },
        "id": "m3mAOL5OqEWz",
        "outputId": "bc4ba9b2-1f1b-47e3-be22-6c18817b018c"
      },
      "execution_count": null,
      "outputs": [
        {
          "output_type": "stream",
          "name": "stdout",
          "text": [
            "The outdoor event is canclled\n"
          ]
        }
      ]
    },
    {
      "cell_type": "code",
      "source": [
        "#Conditional Expressions\n",
        "#A one-line shortcut for the if-else statement (Ternary Operator)\n",
        "#                        Print or assign on of two values based on a condition\n",
        "#                       X if condition else Y\n",
        "\n",
        "\n",
        "num = 3\n",
        "a = 6\n",
        "b = 7\n",
        "age = 16\n",
        "temperature = 20\n",
        "user_roll = \"admin\"\n",
        "\n",
        "\n",
        "\n",
        "#print(\"Positive\" if num > 0 else \"Negative\")\n",
        "\n",
        "result =\"Even\" if num % 2 == 0 else \"Odd\"\n",
        "#max_num =  a if a > b else b\n",
        "min_num =  a if a < b else b\n",
        "status = \"Adult\" if age >= 18 else \"Child\"\n",
        "weather = \"HOT\" if temperature > 20 else \"Cold\"\n",
        "acccess_level = \"Full Access\" if user_roll == \"admin\" else \"Limited Access\"\n",
        "\n",
        "\n",
        "print(acccess_level)"
      ],
      "metadata": {
        "colab": {
          "base_uri": "https://localhost:8080/"
        },
        "id": "wqf1-UinyeXA",
        "outputId": "02dd368f-875c-4aae-a1ba-5226475f1016"
      },
      "execution_count": null,
      "outputs": [
        {
          "output_type": "stream",
          "name": "stdout",
          "text": [
            "Full Access\n"
          ]
        }
      ]
    },
    {
      "cell_type": "code",
      "source": [
        "# name = input(\"Enter your full name: \")\n",
        "phone_number = input(\" Enter your number: \")\n",
        "\n",
        "\n",
        "# result = len(name) #  Gives Length of Variable name\n",
        "# result = name.find(\"o\") # Finds position of characters  in name from front to back\n",
        "# result = name.rfind(\"q\") # Finds position of characters  in name from back to front, character not found it will return a variable os -1\n",
        "# name = name.capitalize() # Will only capitalize the first letter in a string\n",
        "# name = name.upper() # Capitalizes all the characters in a string\n",
        "# name = name.lower() # Returns all characters in a string to lowercase\n",
        "# result = name.isdigit() # Returns True if string only has digits\n",
        "# result = name.isalpha() # Returns true if string has alphabetic characters with no spaces or numbers\n",
        "# result = phone_number.count(\"-\") # Counts how many characters in a string\n",
        "# phone_number = phone_number.replace(\"-\", \"\") #replaces characters with other characters\n",
        "\n",
        "\n",
        "print(phone_number)\n"
      ],
      "metadata": {
        "id": "tdm012kKgtS8"
      },
      "execution_count": null,
      "outputs": []
    },
    {
      "cell_type": "code",
      "source": [
        "# Project\n",
        "# Validate user input exercise\n",
        "# 1. username is no more than 12 characters\n",
        "# 2. username must not contain spaces\n",
        "# 3. username must not contain digits\n",
        "\n",
        "username = input(\" Enter a username: \")\n",
        "username.find(\" \")\n",
        "username.isalpha()\n",
        "\n",
        "if len(username) > 12:\n",
        "   print(\" Your username can't be more than 12 characters\") # username can not have more than 12 characters\n",
        "elif not username.find(\" \") == -1: # username can not contain spaces\n",
        "   print(\"Your username can not contain spaces\")\n",
        "elif not username.isalpha(): # Username can not contain numbers\n",
        "   print(\"Your username can not contain numbers\")\n",
        "\n",
        "\n",
        "else:\n",
        "   print(f\"Welcome {username}\")\n",
        "\n",
        "\n",
        "\n",
        "\n"
      ],
      "metadata": {
        "colab": {
          "base_uri": "https://localhost:8080/"
        },
        "id": "0NebnS5in4qa",
        "outputId": "a75f59a6-ca68-4b2e-d1e3-4731a46fda95"
      },
      "execution_count": null,
      "outputs": [
        {
          "output_type": "stream",
          "name": "stdout",
          "text": [
            " Enter a username: Tony Perkins\n",
            "Your username can not contain spaces\n"
          ]
        }
      ]
    }
  ]
}